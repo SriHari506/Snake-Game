{
 "cells": [
  {
   "cell_type": "code",
   "execution_count": 1,
   "id": "ac7ca319",
   "metadata": {},
   "outputs": [
    {
     "ename": "ModuleNotFoundError",
     "evalue": "No module named 'freegames'",
     "output_type": "error",
     "traceback": [
      "\u001b[1;31m---------------------------------------------------------------------------\u001b[0m",
      "\u001b[1;31mModuleNotFoundError\u001b[0m                       Traceback (most recent call last)",
      "Cell \u001b[1;32mIn[1], line 3\u001b[0m\n\u001b[0;32m      1\u001b[0m \u001b[38;5;28;01mfrom\u001b[39;00m \u001b[38;5;21;01mturtle\u001b[39;00m \u001b[38;5;28;01mimport\u001b[39;00m \u001b[38;5;241m*\u001b[39m\n\u001b[0;32m      2\u001b[0m \u001b[38;5;28;01mfrom\u001b[39;00m \u001b[38;5;21;01mrandom\u001b[39;00m \u001b[38;5;28;01mimport\u001b[39;00m randrange\n\u001b[1;32m----> 3\u001b[0m \u001b[38;5;28;01mfrom\u001b[39;00m \u001b[38;5;21;01mfreegames\u001b[39;00m \u001b[38;5;28;01mimport\u001b[39;00m square, vector\n",
      "\u001b[1;31mModuleNotFoundError\u001b[0m: No module named 'freegames'"
     ]
    }
   ],
   "source": [
    "from turtle import *\n",
    "from random import randrange\n",
    "from freegames import square, vector\n"
   ]
  },
  {
   "cell_type": "code",
   "execution_count": null,
   "id": "e8c71a88",
   "metadata": {},
   "outputs": [],
   "source": [
    "pip install freegames"
   ]
  },
  {
   "cell_type": "code",
   "execution_count": 4,
   "id": "fb8776db",
   "metadata": {},
   "outputs": [],
   "source": [
    "from turtle import *\n",
    "from random import randrange\n",
    "from freegames import square, vector\n"
   ]
  },
  {
   "cell_type": "code",
   "execution_count": 5,
   "id": "c79218ef",
   "metadata": {},
   "outputs": [],
   "source": [
    "food = vector(0, 0)\n",
    "snake = [vector(10, 0)]\n",
    "aim = vector(0, -10)"
   ]
  },
  {
   "cell_type": "code",
   "execution_count": 6,
   "id": "be647af8",
   "metadata": {},
   "outputs": [],
   "source": [
    "def change(x, y):\n",
    "    \"Change snake direction.\"\n",
    "    aim.x = x\n",
    "    aim.y = y"
   ]
  },
  {
   "cell_type": "code",
   "execution_count": 7,
   "id": "54e42158",
   "metadata": {},
   "outputs": [],
   "source": [
    "def inside(head):\n",
    "    \"Return True if head inside boundaries.\"\n",
    "    return -200 < head.x < 190 and -200 < head.y < 190"
   ]
  },
  {
   "cell_type": "code",
   "execution_count": 8,
   "id": "f485124f",
   "metadata": {},
   "outputs": [],
   "source": [
    "\n",
    "def move():\n",
    "    \"Move snake forward one segment.\"\n",
    "    head = snake[-1].copy()\n",
    "    head.move(aim)\n",
    "\n",
    "    if not inside(head) or head in snake:\n",
    "        square(head.x, head.y, 9, 'red')\n",
    "        update()\n",
    "        return\n",
    "\n",
    "    snake.append(head)\n",
    "\n",
    "    if head == food:\n",
    "        print('Snake:', len(snake))\n",
    "        food.x = randrange(-15, 15) * 10\n",
    "        food.y = randrange(-15, 15) * 10\n",
    "    else:\n",
    "        snake.pop(0)\n",
    "\n",
    "    clear()\n",
    "\n",
    "    for body in snake:\n",
    "        square(body.x, body.y, 9, 'black')\n",
    "\n",
    "    square(food.x, food.y, 9, 'green')\n",
    "    update()\n",
    "    ontimer(move, 100)"
   ]
  },
  {
   "cell_type": "code",
   "execution_count": 11,
   "id": "618e9c1a",
   "metadata": {},
   "outputs": [
    {
     "name": "stdout",
     "output_type": "stream",
     "text": [
      "Snake: 2\n",
      "Snake: 3\n"
     ]
    }
   ],
   "source": [
    "setup(420, 420, 370, 0)\n",
    "hideturtle()\n",
    "tracer(False)\n",
    "listen()\n",
    "onkey(lambda: change(10, 0), 'Right')\n",
    "onkey(lambda: change(-10, 0), 'Left')\n",
    "onkey(lambda: change(0, 10), 'Up')\n",
    "onkey(lambda: change(0, -10), 'Down')\n",
    "move()\n",
    "done()"
   ]
  },
  {
   "cell_type": "code",
   "execution_count": null,
   "id": "2abeb0ab",
   "metadata": {},
   "outputs": [],
   "source": []
  },
  {
   "cell_type": "code",
   "execution_count": null,
   "id": "e5b59a6c",
   "metadata": {},
   "outputs": [],
   "source": []
  }
 ],
 "metadata": {
  "kernelspec": {
   "display_name": "Python 3 (ipykernel)",
   "language": "python",
   "name": "python3"
  },
  "language_info": {
   "codemirror_mode": {
    "name": "ipython",
    "version": 3
   },
   "file_extension": ".py",
   "mimetype": "text/x-python",
   "name": "python",
   "nbconvert_exporter": "python",
   "pygments_lexer": "ipython3",
   "version": "3.11.5"
  }
 },
 "nbformat": 4,
 "nbformat_minor": 5
}
